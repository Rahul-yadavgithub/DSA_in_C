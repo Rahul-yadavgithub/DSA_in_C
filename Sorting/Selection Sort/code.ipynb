{
 "cells": [
  {
   "cell_type": "markdown",
   "metadata": {},
   "source": [
    "In this case we select the index of the smallest number and then swap  that number with the current iteration \n",
    "\n",
    "like if we have currently in the i=0; then swap with this and for the next itration swap the next lowest element index with the current itreation like for  \n",
    "\n",
    "i= 1 swap this with this  and so on do this work"
   ]
  },
  {
   "cell_type": "markdown",
   "metadata": {},
   "source": [
    "Advantages \n",
    "\n",
    "1-> Requires less Number of swaps (or memory writes ) compared to many other standard algorithms . only cycle sort  beats it in terms of memory writes \n",
    "\n",
    "2-> less number of swaps required in this case compaire to the bubble and insertion sort\n",
    "\n",
    "3-> It is used when the swap operations are costly"
   ]
  },
  {
   "cell_type": "markdown",
   "metadata": {},
   "source": [
    "Disadvantages\n",
    "\n",
    "1-> Not maintain the relative order "
   ]
  },
  {
   "cell_type": "markdown",
   "metadata": {},
   "source": [
    "Application of this\n",
    "\n",
    "1-> Ideal for systems with limited memory due to its in-place sorting capability"
   ]
  }
 ],
 "metadata": {
  "language_info": {
   "name": "python"
  }
 },
 "nbformat": 4,
 "nbformat_minor": 2
}
