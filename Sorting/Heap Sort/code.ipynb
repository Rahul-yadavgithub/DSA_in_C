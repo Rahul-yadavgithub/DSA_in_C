{
 "cells": [
  {
   "cell_type": "markdown",
   "metadata": {},
   "source": [
    "<h4>Array Implimentation</h4>"
   ]
  },
  {
   "cell_type": "markdown",
   "metadata": {},
   "source": [
    "<h5> 1-> Step</h5>"
   ]
  },
  {
   "cell_type": "code",
   "execution_count": null,
   "metadata": {
    "vscode": {
     "languageId": "plaintext"
    }
   },
   "outputs": [],
   "source": [
    "void construct( BST*& bst , int val){\n",
    "    if(bst->root == 0){\n",
    "        bst->root++;\n",
    "        bst->leaf++;\n",
    "        bst->arr[bst->root] = val;\n",
    "    }\n",
    "    else{\n",
    "        bst->leaf++;\n",
    "        bst->arr[bst->leaf] = val;\n",
    "        int par = (bst->leaf)/2;\n",
    "\n",
    "        if(bst->arr[par]> bst->arr[bst->leaf]){\n",
    "            rearrange(bst, bst->leaf);\n",
    "        }\n",
    "    }\n",
    "    \n",
    "}"
   ]
  },
  {
   "cell_type": "markdown",
   "metadata": {},
   "source": [
    "First call this function which normally make the balance Tree  if we add some element which are less then parent element then they are rearrage by rearrange function "
   ]
  },
  {
   "cell_type": "markdown",
   "metadata": {},
   "source": [
    "<h5> 2nd-> step </h5>"
   ]
  },
  {
   "cell_type": "markdown",
   "metadata": {},
   "source": [
    "void rearrange( BST*& bst, int index){\n",
    "    if(index == 1){\n",
    "        return;\n",
    "    }\n",
    "    int par = index/2;\n",
    "\n",
    "    if(bst->arr[par]< bst->arr[index]){\n",
    "        return;\n",
    "    }\n",
    "    else{\n",
    "        swap(bst->arr[par], bst->arr[index]);\n",
    "    }\n",
    "\n",
    "    rearrange(bst, par);\n",
    "\n",
    "}"
   ]
  },
  {
   "cell_type": "markdown",
   "metadata": {},
   "source": [
    "<h5> 3rd Step </h5>"
   ]
  },
  {
   "cell_type": "code",
   "execution_count": null,
   "metadata": {
    "vscode": {
     "languageId": "plaintext"
    }
   },
   "outputs": [],
   "source": [
    "void del(BST*& bst, vector<int>& arr){\n",
    "    if(bst->root > bst->leaf || bst->root == 40){\n",
    "        cout<<\"Our Heaf Become Empty !!\\n\";\n",
    "        return;\n",
    "    }\n",
    "\n",
    "    int val = bst->arr[bst->root];\n",
    "    arr.push_back(val);\n",
    "\n",
    "    bst->arr[bst->root] = bst->arr[bst->leaf];\n",
    "    bst->leaf--;\n",
    "    delrearrange(bst, bst->root);\n",
    "\n",
    "    \n",
    "}"
   ]
  },
  {
   "cell_type": "markdown",
   "metadata": {},
   "source": [
    "<h5> 4th Step</h5>"
   ]
  },
  {
   "cell_type": "code",
   "execution_count": null,
   "metadata": {
    "vscode": {
     "languageId": "plaintext"
    }
   },
   "outputs": [],
   "source": [
    "void delrearrange(BST*& bst, int start){\n",
    "    int lc = 2 * start; \n",
    "    int rc = 2 * start + 1; \n",
    "    int smallest = start;\n",
    "\n",
    "    if (lc <= bst->leaf && bst->arr[lc] < bst->arr[smallest]) {\n",
    "        smallest = lc;\n",
    "    }\n",
    "\n",
    "    if (rc <= bst->leaf && bst->arr[rc] < bst->arr[smallest]) {\n",
    "        smallest = rc;\n",
    "    }\n",
    "\n",
    "    if (smallest != start) {\n",
    "        swap(bst->arr[start], bst->arr[smallest]);\n",
    "        delrearrange(bst, smallest);\n",
    "    }\n",
    "}"
   ]
  }
 ],
 "metadata": {
  "language_info": {
   "name": "python"
  }
 },
 "nbformat": 4,
 "nbformat_minor": 2
}
