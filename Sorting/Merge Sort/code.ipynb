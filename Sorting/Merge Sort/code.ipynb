{
 "cells": [
  {
   "cell_type": "markdown",
   "metadata": {},
   "source": [
    "Recurrence Relation of merge Sort \n",
    "\n",
    "T(n) = { O(1) if n =1 \n",
    "         2T(n/2)+O(n) if n>1\n",
    "       }\n",
    "\n",
    "T(n) Represents the total time taken by the algorithm to sort an array of size n\n",
    "\n",
    "O(n) represents the time taken to merge the two sorted halves"
   ]
  },
  {
   "cell_type": "markdown",
   "metadata": {},
   "source": [
    "Complexity \n",
    "\n",
    "O(n log(n))"
   ]
  },
  {
   "cell_type": "markdown",
   "metadata": {},
   "source": [
    "Application\n",
    "\n",
    "1-> sorting large datasets\n",
    "\n",
    "2-> Inversion Counting\n",
    "\n",
    "3-> The main reason why it is preferred to sort non- primitive types is stability which is not there in Quick sort\n",
    "\n",
    "4->it is preferred to sort the linkedlist"
   ]
  },
  {
   "cell_type": "markdown",
   "metadata": {},
   "source": [
    "Advantages \n",
    "\n",
    "1-> Stability "
   ]
  },
  {
   "cell_type": "markdown",
   "metadata": {},
   "source": [
    "Disadvantages \n",
    "\n",
    "1-> space complexity\n",
    "\n",
    "2-> slower than Quick Sort in general "
   ]
  }
 ],
 "metadata": {
  "language_info": {
   "name": "python"
  }
 },
 "nbformat": 4,
 "nbformat_minor": 2
}
